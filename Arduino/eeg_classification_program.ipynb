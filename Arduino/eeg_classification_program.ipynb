{
  "nbformat": 4,
  "nbformat_minor": 0,
  "metadata": {
    "colab": {
      "provenance": []
    },
    "kernelspec": {
      "name": "python3",
      "display_name": "Python 3"
    },
    "language_info": {
      "name": "python"
    }
  },
  "cells": [
    {
      "cell_type": "code",
      "source": [
        "import os\n",
        "import mne\n",
        "import numpy as np\n",
        "from mne.io import read_raw_edf\n",
        "from mne.decoding import CSP\n",
        "from sklearn.model_selection import train_test_split, cross_val_score, StratifiedKFold\n",
        "from sklearn.pipeline import Pipeline\n",
        "from sklearn.linear_model import LogisticRegression\n",
        "from sklearn.metrics import classification_report, accuracy_score\n",
        "\n",
        "subjects = ['S001','S002']\n",
        "runs = ['R03', 'R04', 'R07', 'R08', 'R11', 'R12',\n",
        "        'R05', 'R06', 'R09', 'R10', 'R13', 'R14']\n",
        "\n",
        "epochs_list = []\n",
        "labels_list = []\n",
        "\n",
        "def clean_channel_names(raw):\n",
        "    new_ch_names = {}\n",
        "    for name in raw.info['ch_names']:\n",
        "        new_name = name.rstrip('.').upper()\n",
        "        if new_name == 'T9':\n",
        "            new_name = 'FT9'\n",
        "        elif new_name == 'T10':\n",
        "            new_name = 'FT10'\n",
        "        new_ch_names[name] = new_name\n",
        "    raw.rename_channels(new_ch_names)\n",
        "\n",
        "for subject in subjects:\n",
        "    for run in runs:\n",
        "        edf_path = f'/content/{subject}{run}.edf'\n",
        "        if not os.path.isfile(edf_path):\n",
        "            print(f'File {edf_path} not found. Please upload it.')\n",
        "            continue\n",
        "        raw = read_raw_edf(edf_path, preload=True, verbose=False)\n",
        "\n",
        "        clean_channel_names(raw)\n",
        "\n",
        "        montage = mne.channels.make_standard_montage('standard_1005')\n",
        "        raw.set_montage(montage, match_case=False)\n",
        "\n",
        "        raw.filter(7., 30., fir_design='firwin', skip_by_annotation='edge', verbose=False)\n",
        "\n",
        "        events, event_id = mne.events_from_annotations(raw, verbose=False)\n",
        "\n",
        "        tmin, tmax = 0., 4.\n",
        "        picks = mne.pick_types(raw.info, eeg=True, exclude='bads')\n",
        "        epochs = mne.Epochs(raw, events, event_id=event_id, tmin=tmin, tmax=tmax,\n",
        "                            picks=picks, baseline=None, preload=True, verbose=False)\n",
        "\n",
        "        if run in ['R03', 'R04', 'R07', 'R08', 'R11', 'R12']:\n",
        "           label_map = {'T1': 0, 'T2': 1}\n",
        "        elif run in ['R05', 'R06', 'R09', 'R10', 'R13', 'R14']:\n",
        "           label_map = {'T2': 2}\n",
        "        else:\n",
        "            continue\n",
        "\n",
        "\n",
        "\n",
        "\n",
        "        labels = []\n",
        "        selected_epochs = []\n",
        "        for i, e in enumerate(epochs.events):\n",
        "            event = list(event_id.keys())[list(event_id.values()).index(e[2])]\n",
        "            if event in label_map:\n",
        "                labels.append(label_map[event])\n",
        "                selected_epochs.append(i)\n",
        "\n",
        "        epochs = epochs[selected_epochs]\n",
        "\n",
        "        epochs_list.append(epochs)\n",
        "        labels_list.append(labels)\n",
        "\n",
        "if len(epochs_list) == 0:\n",
        "    print(\"No epochs found. Please check your data files and labels.\")\n",
        "else:\n",
        "    epochs = mne.concatenate_epochs(epochs_list)\n",
        "    labels = np.concatenate(labels_list)\n",
        "\n",
        "X = epochs.get_data()\n",
        "y = labels\n",
        "\n"
      ],
      "metadata": {
        "colab": {
          "base_uri": "https://localhost:8080/"
        },
        "id": "FPm0wasN3xR1",
        "outputId": "4d4eb47c-4c6d-46b2-8076-cd0a8c310215"
      },
      "execution_count": null,
      "outputs": [
        {
          "output_type": "stream",
          "name": "stderr",
          "text": [
            "<ipython-input-15-6e3bbaa9a9d6>:77: RuntimeWarning: Concatenation of Annotations within Epochs is not supported yet. All annotations will be dropped.\n",
            "  epochs = mne.concatenate_epochs(epochs_list)\n"
          ]
        },
        {
          "output_type": "stream",
          "name": "stdout",
          "text": [
            "Not setting metadata\n",
            "271 matching events found\n",
            "No baseline correction applied\n"
          ]
        }
      ]
    },
    {
      "cell_type": "code",
      "source": [
        "X = epochs.get_data()\n",
        "y = labels\n",
        "\n",
        "\n",
        "X_train, X_test, y_train, y_test = train_test_split(X, y, test_size=0.2, stratify=y, random_state=42)\n",
        "\n",
        "csp = CSP(n_components=4, reg=None, log=True, norm_trace=False)\n",
        "\n",
        "csp.fit(X_train, y_train)\n",
        "\n",
        "X_train_csp = csp.transform(X_train)\n",
        "X_test_csp = csp.transform(X_test)\n",
        "\n",
        "clf = LogisticRegression(solver='lbfgs', multi_class='multinomial', max_iter=1000)\n",
        "\n",
        "clf.fit(X_train_csp, y_train)\n",
        "\n",
        "y_pred = clf.predict(X_test_csp)\n",
        "\n",
        "print(\"Classification Report:\")\n",
        "print(classification_report(y_test, y_pred))\n",
        "\n",
        "accuracy = accuracy_score(y_test, y_pred)\n",
        "print(f\"Accuracy: {accuracy * 100:.2f}%\")\n"
      ],
      "metadata": {
        "colab": {
          "base_uri": "https://localhost:8080/"
        },
        "id": "BtijoVf6465X",
        "outputId": "c8b7995d-cf00-4714-ec74-4b890bfc94b6"
      },
      "execution_count": null,
      "outputs": [
        {
          "output_type": "stream",
          "name": "stdout",
          "text": [
            "Computing rank from data with rank=None\n",
            "    Using tolerance 0.00058 (2.2e-16 eps * 64 dim * 4.1e+10  max singular value)\n",
            "    Estimated rank (data): 64\n",
            "    data: rank 64 computed from 64 data channels with 0 projectors\n",
            "Reducing data rank from 64 -> 64\n",
            "Estimating class=0 covariance using EMPIRICAL\n",
            "Done.\n",
            "Estimating class=1 covariance using EMPIRICAL\n",
            "Done.\n",
            "Estimating class=2 covariance using EMPIRICAL\n",
            "Done.\n",
            "Classification Report:\n",
            "              precision    recall  f1-score   support\n",
            "\n",
            "           0       0.79      0.79      0.79        19\n",
            "           1       0.57      0.72      0.63        18\n",
            "           2       0.92      0.67      0.77        18\n",
            "\n",
            "    accuracy                           0.73        55\n",
            "   macro avg       0.76      0.73      0.73        55\n",
            "weighted avg       0.76      0.73      0.73        55\n",
            "\n",
            "Accuracy: 72.73%\n"
          ]
        },
        {
          "output_type": "stream",
          "name": "stderr",
          "text": [
            "/usr/local/lib/python3.10/dist-packages/sklearn/linear_model/_logistic.py:1247: FutureWarning: 'multi_class' was deprecated in version 1.5 and will be removed in 1.7. From then on, it will always use 'multinomial'. Leave it to its default value to avoid this warning.\n",
            "  warnings.warn(\n"
          ]
        }
      ]
    }
  ]
}
